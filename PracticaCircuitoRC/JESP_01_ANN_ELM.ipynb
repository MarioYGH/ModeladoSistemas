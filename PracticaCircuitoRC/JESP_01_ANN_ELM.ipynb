{
 "cells": [
  {
   "cell_type": "code",
   "execution_count": 1,
   "metadata": {},
   "outputs": [],
   "source": [
    "import numpy as np\n",
    "import pandas as pd\n",
    "import matplotlib.pyplot as plt\n",
    "\n",
    "from sklearn.model_selection import train_test_split\n",
    "from sklearn.metrics import mean_squared_error, mean_absolute_error, r2_score, explained_variance_score"
   ]
  },
  {
   "cell_type": "code",
   "execution_count": 2,
   "metadata": {},
   "outputs": [
    {
     "data": {
      "text/html": [
       "<div>\n",
       "<style scoped>\n",
       "    .dataframe tbody tr th:only-of-type {\n",
       "        vertical-align: middle;\n",
       "    }\n",
       "\n",
       "    .dataframe tbody tr th {\n",
       "        vertical-align: top;\n",
       "    }\n",
       "\n",
       "    .dataframe thead th {\n",
       "        text-align: right;\n",
       "    }\n",
       "</style>\n",
       "<table border=\"1\" class=\"dataframe\">\n",
       "  <thead>\n",
       "    <tr style=\"text-align: right;\">\n",
       "      <th></th>\n",
       "      <th>time</th>\n",
       "      <th>voltaje_ent</th>\n",
       "      <th>voltaje_cap_5</th>\n",
       "      <th>Resistencia real</th>\n",
       "      <th>Capacitancia Real</th>\n",
       "    </tr>\n",
       "  </thead>\n",
       "  <tbody>\n",
       "    <tr>\n",
       "      <th>0</th>\n",
       "      <td>0</td>\n",
       "      <td>4.93</td>\n",
       "      <td>0.00</td>\n",
       "      <td>53300</td>\n",
       "      <td>100</td>\n",
       "    </tr>\n",
       "    <tr>\n",
       "      <th>1</th>\n",
       "      <td>200</td>\n",
       "      <td>4.93</td>\n",
       "      <td>0.00</td>\n",
       "      <td>53300</td>\n",
       "      <td>100</td>\n",
       "    </tr>\n",
       "    <tr>\n",
       "      <th>2</th>\n",
       "      <td>400</td>\n",
       "      <td>4.93</td>\n",
       "      <td>0.02</td>\n",
       "      <td>53300</td>\n",
       "      <td>100</td>\n",
       "    </tr>\n",
       "    <tr>\n",
       "      <th>3</th>\n",
       "      <td>600</td>\n",
       "      <td>4.93</td>\n",
       "      <td>0.24</td>\n",
       "      <td>53300</td>\n",
       "      <td>100</td>\n",
       "    </tr>\n",
       "    <tr>\n",
       "      <th>4</th>\n",
       "      <td>800</td>\n",
       "      <td>4.93</td>\n",
       "      <td>0.43</td>\n",
       "      <td>53300</td>\n",
       "      <td>100</td>\n",
       "    </tr>\n",
       "  </tbody>\n",
       "</table>\n",
       "</div>"
      ],
      "text/plain": [
       "   time  voltaje_ent  voltaje_cap_5  Resistencia real  Capacitancia Real\n",
       "0     0         4.93           0.00             53300                100\n",
       "1   200         4.93           0.00             53300                100\n",
       "2   400         4.93           0.02             53300                100\n",
       "3   600         4.93           0.24             53300                100\n",
       "4   800         4.93           0.43             53300                100"
      ]
     },
     "execution_count": 2,
     "metadata": {},
     "output_type": "execute_result"
    }
   ],
   "source": [
    "RC_circuit_db = pd.read_csv('db_completa_RC_Tecnologia.csv')\n",
    "RC_circuit_db.head()"
   ]
  },
  {
   "cell_type": "code",
   "execution_count": 3,
   "metadata": {},
   "outputs": [],
   "source": [
    "# Funcion de normalizacion\n",
    "def normalize(x, xmin, xmax):\n",
    "    return (xmax - xmin)*((x - np.min(x))/(np.max(x) - np.min(x))) + xmin"
   ]
  },
  {
   "cell_type": "code",
   "execution_count": 4,
   "metadata": {},
   "outputs": [],
   "source": [
    "#X = [tiempo, R, C, Ve]\n",
    "#y = [Vc]\n",
    "\n",
    "R = normalize(RC_circuit_db['Resistencia real'], 0.1, 0.8)\n",
    "C = normalize(RC_circuit_db['Capacitancia Real'], 0.1, 0.8)\n",
    "t = normalize(RC_circuit_db['time'], 0.1, 0.8)\n",
    "Ve = RC_circuit_db['voltaje_ent']\n",
    "\n",
    "# Input variables\n",
    "X = np.vstack([R, C, t, Ve]).T\n",
    "\n",
    "# Target\n",
    "y = RC_circuit_db['voltaje_cap_5']"
   ]
  },
  {
   "cell_type": "code",
   "execution_count": 5,
   "metadata": {},
   "outputs": [
    {
     "name": "stdout",
     "output_type": "stream",
     "text": [
      "(14000, 4)\n",
      "(6000, 4)\n",
      "(14000,)\n",
      "(6000,)\n"
     ]
    }
   ],
   "source": [
    "X_train, X_test, y_train, y_test = train_test_split(X, y, test_size = 0.30, random_state = 2002)\n",
    "\n",
    "print(X_train.shape)\n",
    "print(X_test.shape)\n",
    "print(y_train.shape)\n",
    "print(y_test.shape)"
   ]
  },
  {
   "cell_type": "code",
   "execution_count": 6,
   "metadata": {},
   "outputs": [],
   "source": [
    "class ANN():\n",
    "    def __init__(self, X, Y, n_neuronas):\n",
    "        self.x = X\n",
    "        n_entradas = X.shape[1]\n",
    "        self.IW = np.random.uniform(size = [n_entradas, n_neuronas])\n",
    "        self.b = np.random.uniform(size = [n_neuronas])\n",
    "        self.y = Y\n",
    "\n",
    "    # Funciones de activacion\\n\",\n",
    "    def logsig(self, n):\n",
    "        return (1/(1 + np.exp(-n)))\n",
    "\n",
    "    def tansig(self, n):\n",
    "        return (2/(1 + np.exp(-2*n))) - 1\n",
    "\n",
    "    def relu(self, n):\n",
    "        return np.maximum(n, 0, n)\n",
    "\n",
    "    def train(self):\n",
    "        self.LW = np.dot(np.linalg.pinv(self.logsig(self.x.dot(self.IW) + self.b)), self.y)\n",
    "\n",
    "    def predict(self, Xdata):\n",
    "        self.x = Xdata\n",
    "        return np.dot(self.logsig(self.x.dot(self.IW) + self.b), self.LW)"
   ]
  },
  {
   "cell_type": "code",
   "execution_count": 7,
   "metadata": {},
   "outputs": [],
   "source": [
    "def regression_results(y_true, y_pred):\n",
    "    # Regression metrics\n",
    "    ev = explained_variance_score(y_true, y_pred)\n",
    "    mae = mean_absolute_error(y_true, y_pred) \n",
    "    mse = mean_squared_error(y_true, y_pred) \n",
    "    r2 = r2_score(y_true, y_pred)\n",
    "\n",
    "    print('explained_variance: ', round(ev,4))    \n",
    "    print('MAE: ', round(mae,4))\n",
    "    print('MSE: ', round(mse,4))\n",
    "    print('R²: ', round(r2,4))"
   ]
  },
  {
   "cell_type": "code",
   "execution_count": 8,
   "metadata": {},
   "outputs": [
    {
     "name": "stdout",
     "output_type": "stream",
     "text": [
      "Best model with 30 neurons\n",
      "explained_variance:  0.9804\n",
      "MAE:  0.1079\n",
      "MSE:  0.056\n",
      "R²:  0.9804\n",
      "explained_variance:  0.9806\n",
      "MAE:  0.1059\n",
      "MSE:  0.0563\n",
      "R²:  0.9806\n",
      "explained_variance:  0.9806\n",
      "MAE:  0.1059\n",
      "MSE:  0.0563\n",
      "R²:  0.9806\n"
     ]
    }
   ],
   "source": [
    "# X [k_muestras x n_variables_entrada]\n",
    "# y [k_muestras]\n",
    "    \n",
    "r2 = 0\n",
    "goal = 0.98\n",
    "n_neuronas = 1\n",
    "    \n",
    "while r2 < goal:\n",
    "    model = ANN(X_train, y_train, n_neuronas)\n",
    "    model.train()\n",
    "    y_train_pred = model.predict(X_train)\n",
    "    \n",
    "    r2 = r2_score(y_train, y_train_pred)\n",
    "    \n",
    "    n_neuronas += 1\n",
    "    \n",
    "print(\"Best model with %d neurons\" % (n_neuronas))\n",
    "\n",
    "y_train_pred = model.predict(X_train)\n",
    "y_test_pred = model.predict(X_test)\n",
    "\n",
    "regression_results(y_train, y_train_pred)\n",
    "regression_results(y_test, y_test_pred)\n",
    "\n",
    "#print(\\RMSE (train):\\, np.sqrt(np.mean( (y_train-y_train_pred)**2) ))\n",
    "#print(\\RMSE (test):\\, np.sqrt(np.mean( (y_test-y_test_pred)**2) ))\n",
    "regression_results(y_test, y_test_pred)"
   ]
  },
  {
   "cell_type": "code",
   "execution_count": 13,
   "metadata": {},
   "outputs": [
    {
     "name": "stdout",
     "output_type": "stream",
     "text": [
      "P-I Test Proporción ANN: 0.9828333333333333\n"
     ]
    }
   ],
   "source": [
    "import numpy as np\n",
    "from sklearn.metrics import mean_squared_error\n",
    "\n",
    "# Asegúrate de definir y_train y y_test en lugar de y_true y y_pred_ann\n",
    "y_true = y_test  # Valores reales\n",
    "y_pred_ann = y_test_pred  # Predicciones del modelo ANN\n",
    "\n",
    "# Calcula el Error Cuadrático Medio (MSE)\n",
    "mse_ann = mean_squared_error(y_true, y_pred_ann)\n",
    "\n",
    "# Define la tolerancia para el P-I Test\n",
    "tolerancia = 1.96 * np.sqrt(mse_ann)  # Intervalo de confianza al 95%\n",
    "\n",
    "# Realiza el P-I Test\n",
    "p_i_test_ann = np.abs(y_true - y_pred_ann) <= tolerancia\n",
    "\n",
    "# Calcula la proporción de valores dentro del intervalo\n",
    "proporcion_ann = np.mean(p_i_test_ann)\n",
    "\n",
    "print(f\"P-I Test Proporción ANN: {proporcion_ann}\")\n"
   ]
  },
  {
   "cell_type": "code",
   "execution_count": 14,
   "metadata": {},
   "outputs": [
    {
     "name": "stdout",
     "output_type": "stream",
     "text": [
      "P-I Test Proporción ANN: 0.9828333333333333\n",
      "Pendiente: 0.9803601180604439\n",
      "Intercepto: 0.06108512531286259\n"
     ]
    }
   ],
   "source": [
    "import numpy as np\n",
    "from sklearn.metrics import mean_squared_error\n",
    "from scipy.stats import linregress\n",
    "\n",
    "# Asegúrate de definir y_test y y_test_pred como los datos de valores reales y predichos\n",
    "y_true = y_test  # Valores reales\n",
    "y_pred_ann = y_test_pred  # Predicciones del modelo ANN\n",
    "\n",
    "# Calcula el Error Cuadrático Medio (MSE)\n",
    "mse_ann = mean_squared_error(y_true, y_pred_ann)\n",
    "\n",
    "# Define la tolerancia para el P-I Test\n",
    "tolerancia = 1.96 * np.sqrt(mse_ann)  # Intervalo de confianza al 95%\n",
    "\n",
    "# Realiza el P-I Test\n",
    "p_i_test_ann = np.abs(y_true - y_pred_ann) <= tolerancia\n",
    "\n",
    "# Calcula la proporción de valores dentro del intervalo\n",
    "proporcion_ann = np.mean(p_i_test_ann)\n",
    "\n",
    "# Calcula la pendiente y el intercepto\n",
    "slope, intercept, _, _, _ = linregress(y_true, y_pred_ann)\n",
    "\n",
    "print(f\"P-I Test Proporción ANN: {proporcion_ann}\")\n",
    "print(f\"Pendiente: {slope}\")\n",
    "print(f\"Intercepto: {intercept}\")\n"
   ]
  },
  {
   "cell_type": "code",
   "execution_count": null,
   "metadata": {},
   "outputs": [],
   "source": []
  }
 ],
 "metadata": {
  "kernelspec": {
   "display_name": "Python 3 (ipykernel)",
   "language": "python",
   "name": "python3"
  },
  "language_info": {
   "codemirror_mode": {
    "name": "ipython",
    "version": 3
   },
   "file_extension": ".py",
   "mimetype": "text/x-python",
   "name": "python",
   "nbconvert_exporter": "python",
   "pygments_lexer": "ipython3",
   "version": "3.12.4"
  }
 },
 "nbformat": 4,
 "nbformat_minor": 4
}
